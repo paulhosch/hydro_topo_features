{
 "cells": [
  {
   "cell_type": "markdown",
   "metadata": {},
   "source": [
    "# A notebook example of running the full pipeline at once  "
   ]
  },
  {
   "cell_type": "code",
   "execution_count": 1,
   "metadata": {},
   "outputs": [
    {
     "name": "stdout",
     "output_type": "stream",
     "text": [
      " Retrieved 24095 features for {'natural': 'water'}\n",
      " Retrieved 5065 features for {'waterway': 'river'}\n",
      " Retrieved 50288 features for {'waterway': 'stream'}\n",
      " Retrieved 1939 features for {'waterway': 'canal'}\n",
      " Retrieved 189 features for {'landuse': 'reservoir'}\n",
      "raw_dem: data/output/danube/interim/raw_dem.tif\n",
      "osm_water_vector: data/output/danube/interim/osm_water_vector.gpkg\n",
      "osm_water_raster: data/output/danube/interim/osm_water_raster.tif\n",
      "burned_dem: data/output/danube/processed/burned_dem.tif\n",
      "hand: data/output/danube/processed/hand.tif\n",
      "slope: data/output/danube/processed/slope.tif\n",
      "edtw: data/output/danube/processed/edtw.tif\n",
      "raw_dem_static_map: data/output/danube/figures/static/raw dem_map.svg\n",
      "burned_dem_static_map: data/output/danube/figures/static/burned dem_map.svg\n",
      "osm_water_raster_static_map: data/output/danube/figures/static/osm water_map.svg\n",
      "hand_static_map: data/output/danube/figures/static/hand_map.svg\n",
      "slope_static_map: data/output/danube/figures/static/slope_map.svg\n",
      "edtw_static_map: data/output/danube/figures/static/edtw_map.svg\n",
      "interactive_map: data/output/danube/figures/interactive/danube_interactive_map.html\n"
     ]
    }
   ],
   "source": [
    "# Import necessary libraries\n",
    "import os\n",
    "from pathlib import Path\n",
    "import matplotlib.pyplot as plt\n",
    "from IPython.display import display, HTML\n",
    "\n",
    "# Import hydro_topo_features package\n",
    "import hydro_topo_features\n",
    "from hydro_topo_features.config import Config\n",
    "from hydro_topo_features.pipeline import run_pipeline\n",
    "\n",
    "# Set paths to input data\n",
    "site_id = \"danube\"  # A unique identifier for your study area\n",
    "aoi_path = \"data/example/aoi/EMSR728_AOI04_DEL_PRODUCT_areaOfInterestA_v1.shp\"\n",
    "dem_dir = \"data/example/dem_tiles\"\n",
    "output_dir = \"data/output\"\n",
    "\n",
    "# Create output directory if it doesn't exist\n",
    "os.makedirs(output_dir, exist_ok=True)\n",
    "\n",
    "# Run the pipeline\n",
    "outputs = run_pipeline(\n",
    "    site_id=site_id,\n",
    "    aoi_path=aoi_path,\n",
    "    dem_tile_folder_path=dem_dir,\n",
    "    output_path=output_dir,\n",
    "    create_static_maps=True,\n",
    "    create_interactive_map=True\n",
    ")\n",
    "\n",
    "# Display the output paths\n",
    "for key, path in outputs.items():\n",
    "    print(f\"{key}: {path}\")"
   ]
  }
 ],
 "metadata": {
  "kernelspec": {
   "display_name": "hydro_topo_3",
   "language": "python",
   "name": "python3"
  },
  "language_info": {
   "codemirror_mode": {
    "name": "ipython",
    "version": 3
   },
   "file_extension": ".py",
   "mimetype": "text/x-python",
   "name": "python",
   "nbconvert_exporter": "python",
   "pygments_lexer": "ipython3",
   "version": "3.11.12"
  }
 },
 "nbformat": 4,
 "nbformat_minor": 2
}

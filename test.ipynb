{
 "cells": [
  {
   "cell_type": "code",
   "execution_count": null,
   "metadata": {
    "vscode": {
     "languageId": "plaintext"
    }
   },
   "outputs": [],
   "source": [
    "from hydro_topo_features.pipeline import run_pipeline\n",
    "\n",
    "outputs = run_pipeline(\n",
    "    site_id=\"my_site\",\n",
    "    aoi_path=\"path/to/aoi.gpkg\",\n",
    "    dem_tile_folder_path=\"path/to/dem/tiles\"\n",
    ")"
   ]
  }
 ],
 "metadata": {
  "language_info": {
   "name": "python"
  }
 },
 "nbformat": 4,
 "nbformat_minor": 2
}
